{
 "cells": [
  {
   "cell_type": "markdown",
   "id": "ecb726ab-01cd-4617-b16d-b7c74e76428d",
   "metadata": {},
   "source": [
    "# Question: Randomly generate a matrix of shape (1Million, 2) and perform below mentioned operations.\r\n",
    "a. Find the distances between each 2-Dimensional data point from the centroid (i.e. mean) of the given dataset. Append the newly calculated distances as new column with the given dataset.\n",
    "\r\n",
    "b. Given centroid, generate 3 closest neighbors from it\n",
    "\n",
    "\n",
    ".\r\n",
    "c. Given any data point, generate 3 closest neighbors from it.\r\n"
   ]
  },
  {
   "cell_type": "code",
   "execution_count": 1,
   "id": "b7235ae2-4d21-40c3-a413-1e561a694c13",
   "metadata": {},
   "outputs": [],
   "source": [
    "import numpy as np\n"
   ]
  },
  {
   "cell_type": "markdown",
   "id": "38eeba24-b4ba-4a64-9263-ee831de26d31",
   "metadata": {},
   "source": [
    "#  Randomly generate a numpy matrix - shape 1M * 2"
   ]
  },
  {
   "cell_type": "code",
   "execution_count": 2,
   "id": "2ffe1dc1-b6c8-46a2-8ab8-b36fe6a41aef",
   "metadata": {},
   "outputs": [],
   "source": [
    "arr = np.random.random(size=(1000000,2))"
   ]
  },
  {
   "cell_type": "code",
   "execution_count": 3,
   "id": "c4262eaa-66e1-4647-a0de-350178ce773c",
   "metadata": {},
   "outputs": [
    {
     "data": {
      "text/plain": [
       "array([[0.67530842, 0.25508977],\n",
       "       [0.34781978, 0.76279518],\n",
       "       [0.26663918, 0.96260445],\n",
       "       ...,\n",
       "       [0.54804603, 0.58670505],\n",
       "       [0.36111176, 0.6040823 ],\n",
       "       [0.23550384, 0.82548813]])"
      ]
     },
     "execution_count": 3,
     "metadata": {},
     "output_type": "execute_result"
    }
   ],
   "source": [
    "arr"
   ]
  },
  {
   "cell_type": "code",
   "execution_count": 4,
   "id": "420d4da7-1786-4a7d-907a-1192e2aea14b",
   "metadata": {},
   "outputs": [
    {
     "data": {
      "text/plain": [
       "array([0.25508977, 0.76279518, 0.96260445, ..., 0.58670505, 0.6040823 ,\n",
       "       0.82548813])"
      ]
     },
     "execution_count": 4,
     "metadata": {},
     "output_type": "execute_result"
    }
   ],
   "source": [
    "arr[:,1]"
   ]
  },
  {
   "cell_type": "markdown",
   "id": "56dc6c34-4da7-414b-a2b0-15b128cb27a0",
   "metadata": {},
   "source": [
    "# Calculate the centroid of the data"
   ]
  },
  {
   "cell_type": "code",
   "execution_count": 5,
   "id": "87348963-35e6-4023-9c05-127432e8edf4",
   "metadata": {},
   "outputs": [],
   "source": [
    "centriod = np.mean(arr,axis=0)"
   ]
  },
  {
   "cell_type": "code",
   "execution_count": 6,
   "id": "f4e97621-6d19-441f-b7e5-b7fe1cb95c0e",
   "metadata": {},
   "outputs": [
    {
     "data": {
      "text/plain": [
       "array([0.50030439, 0.50000183])"
      ]
     },
     "execution_count": 6,
     "metadata": {},
     "output_type": "execute_result"
    }
   ],
   "source": [
    "centriod\n"
   ]
  },
  {
   "cell_type": "code",
   "execution_count": 7,
   "id": "209463de-90e0-4358-bc7f-dbe2aad26e0c",
   "metadata": {},
   "outputs": [
    {
     "data": {
      "text/plain": [
       "array([[0.50030439],\n",
       "       [0.50000183]])"
      ]
     },
     "execution_count": 7,
     "metadata": {},
     "output_type": "execute_result"
    }
   ],
   "source": [
    "m = centriod.reshape(2,1)\n",
    "m\n"
   ]
  },
  {
   "cell_type": "markdown",
   "id": "d52856d7-c5de-4b9f-9d78-dbf5d774d11f",
   "metadata": {},
   "source": [
    "# Calculate the distance bt centroid and each data point (1M)"
   ]
  },
  {
   "cell_type": "code",
   "execution_count": 8,
   "id": "7d691e17-07fc-48fa-9c1e-0df428de96d8",
   "metadata": {},
   "outputs": [
    {
     "data": {
      "text/plain": [
       "array([0.50030439])"
      ]
     },
     "execution_count": 8,
     "metadata": {},
     "output_type": "execute_result"
    }
   ],
   "source": [
    "m[0]"
   ]
  },
  {
   "cell_type": "code",
   "execution_count": 9,
   "id": "e1a8e353-1fcb-4b3d-b478-18dd0a41373b",
   "metadata": {},
   "outputs": [],
   "source": [
    "# calculating distance \n",
    "# distance formula d*d = (side_1)*((side_1) + (side_2)*(side2)\n",
    "distance = (arr[:,0]-m[0])*(arr[:,0]-m[0]) + (arr[:,1]-m[1])*(arr[:,1]-m[1])"
   ]
  },
  {
   "cell_type": "code",
   "execution_count": 10,
   "id": "981c20ab-4a14-4973-95cc-e8fe66bc08fe",
   "metadata": {},
   "outputs": [],
   "source": [
    "Py_distance = distance**0.5"
   ]
  },
  {
   "cell_type": "code",
   "execution_count": 30,
   "id": "45b11f8b-3771-4ea8-a5b7-e24d1622bff6",
   "metadata": {},
   "outputs": [
    {
     "data": {
      "text/plain": [
       "array([0.30101218, 0.30382873, 0.51826693, ..., 0.09897834, 0.17380256,\n",
       "       0.41959583])"
      ]
     },
     "execution_count": 30,
     "metadata": {},
     "output_type": "execute_result"
    }
   ],
   "source": [
    "Py_distance"
   ]
  },
  {
   "cell_type": "code",
   "execution_count": 14,
   "id": "abba0fef-a1b6-4b68-b974-073ba97ed07f",
   "metadata": {},
   "outputs": [],
   "source": [
    "distance2 = np.sqrt(distance)"
   ]
  },
  {
   "cell_type": "code",
   "execution_count": 33,
   "id": "9c0dc7fd-e0f2-44c3-983f-aab140d92ef6",
   "metadata": {},
   "outputs": [],
   "source": [
    "a = distance2.reshape(1000000,1)"
   ]
  },
  {
   "cell_type": "code",
   "execution_count": 34,
   "id": "30857ef9-8401-4a91-8843-440ab31444f9",
   "metadata": {},
   "outputs": [
    {
     "data": {
      "text/plain": [
       "array([[0.30101218],\n",
       "       [0.30382873],\n",
       "       [0.51826693],\n",
       "       ...,\n",
       "       [0.09897834],\n",
       "       [0.17380256],\n",
       "       [0.41959583]])"
      ]
     },
     "execution_count": 34,
     "metadata": {},
     "output_type": "execute_result"
    }
   ],
   "source": [
    "a"
   ]
  },
  {
   "cell_type": "code",
   "execution_count": 35,
   "id": "8d5c840a-6c3f-41e4-a863-510fafe4ad4c",
   "metadata": {},
   "outputs": [
    {
     "data": {
      "text/plain": [
       "dtype('float64')"
      ]
     },
     "execution_count": 35,
     "metadata": {},
     "output_type": "execute_result"
    }
   ],
   "source": [
    "distance2.dtype\n",
    "\n",
    "\n",
    "\n"
   ]
  },
  {
   "cell_type": "code",
   "execution_count": 36,
   "id": "8e0835e4-c9b2-4c32-8bb4-19a8afc193d9",
   "metadata": {},
   "outputs": [
    {
     "data": {
      "text/plain": [
       "array([[0.67530842, 0.25508977],\n",
       "       [0.34781978, 0.76279518],\n",
       "       [0.26663918, 0.96260445],\n",
       "       ...,\n",
       "       [0.54804603, 0.58670505],\n",
       "       [0.36111176, 0.6040823 ],\n",
       "       [0.23550384, 0.82548813]])"
      ]
     },
     "execution_count": 36,
     "metadata": {},
     "output_type": "execute_result"
    }
   ],
   "source": [
    "arr"
   ]
  },
  {
   "cell_type": "code",
   "execution_count": 37,
   "id": "417281b7-82d5-4ecb-b608-8899b695ce34",
   "metadata": {},
   "outputs": [
    {
     "data": {
      "text/plain": [
       "array([0.30101218, 0.30382873, 0.51826693, ..., 0.09897834, 0.17380256,\n",
       "       0.41959583])"
      ]
     },
     "execution_count": 37,
     "metadata": {},
     "output_type": "execute_result"
    }
   ],
   "source": [
    "distance2"
   ]
  },
  {
   "cell_type": "markdown",
   "id": "861a5688-9f21-4d77-b0fb-4b141decd286",
   "metadata": {},
   "source": [
    "# Append the distances array with original data"
   ]
  },
  {
   "cell_type": "code",
   "execution_count": 40,
   "id": "e1228347-5b51-4eff-be71-39af1a14da7b",
   "metadata": {},
   "outputs": [],
   "source": [
    "arr2 = np.hstack((arr,a))"
   ]
  },
  {
   "cell_type": "code",
   "execution_count": 41,
   "id": "1bd8005f-f6e5-4c10-94aa-ed803c6867a8",
   "metadata": {},
   "outputs": [
    {
     "data": {
      "text/plain": [
       "array([[0.67530842, 0.25508977, 0.30101218],\n",
       "       [0.34781978, 0.76279518, 0.30382873],\n",
       "       [0.26663918, 0.96260445, 0.51826693],\n",
       "       ...,\n",
       "       [0.54804603, 0.58670505, 0.09897834],\n",
       "       [0.36111176, 0.6040823 , 0.17380256],\n",
       "       [0.23550384, 0.82548813, 0.41959583]])"
      ]
     },
     "execution_count": 41,
     "metadata": {},
     "output_type": "execute_result"
    }
   ],
   "source": [
    "arr2"
   ]
  },
  {
   "cell_type": "code",
   "execution_count": 43,
   "id": "88f2f02f-d5a2-4666-bc28-cea16afb23c6",
   "metadata": {},
   "outputs": [],
   "source": [
    "import matplotlib.pyplot as plt\n",
    "import seaborn as sns"
   ]
  },
  {
   "cell_type": "code",
   "execution_count": 54,
   "id": "acfcc1c1-09f2-4d13-ad1a-1f33e6af68f4",
   "metadata": {},
   "outputs": [
    {
     "data": {
      "text/plain": [
       "<matplotlib.collections.PathCollection at 0x14d2efad190>"
      ]
     },
     "execution_count": 54,
     "metadata": {},
     "output_type": "execute_result"
    },
    {
     "data": {
      "image/png": "[encoded data removed]",
      "text/plain": [
       "<Figure size 640x480 with 1 Axes>"
      ]
     },
     "metadata": {},
     "output_type": "display_data"
    }
   ],
   "source": [
    "plt.scatter(arr[:,0],arr[:,1])\n",
    "plt.scatter(m[0],m[1],color=\"red\") \n"
   ]
  },
  {
   "cell_type": "markdown",
   "id": "6f3e96f0-162c-4de2-85de-ae2fbe9a8f32",
   "metadata": {},
   "source": [
    "# Given centroid, generate 3 closest neighbors from it."
   ]
  },
  {
   "cell_type": "code",
   "execution_count": 55,
   "id": "c4c023f4-74a0-4f19-b633-7054a0082a67",
   "metadata": {},
   "outputs": [
    {
     "data": {
      "text/plain": [
       "['ALLOW_THREADS',\n",
       " 'AxisError',\n",
       " 'BUFSIZE',\n",
       " 'CLIP',\n",
       " 'ComplexWarning',\n",
       " 'DataSource',\n",
       " 'ERR_CALL',\n",
       " 'ERR_DEFAULT',\n",
       " 'ERR_IGNORE',\n",
       " 'ERR_LOG',\n",
       " 'ERR_PRINT',\n",
       " 'ERR_RAISE',\n",
       " 'ERR_WARN',\n",
       " 'FLOATING_POINT_SUPPORT',\n",
       " 'FPE_DIVIDEBYZERO',\n",
       " 'FPE_INVALID',\n",
       " 'FPE_OVERFLOW',\n",
       " 'FPE_UNDERFLOW',\n",
       " 'False_',\n",
       " 'Inf',\n",
       " 'Infinity',\n",
       " 'MAXDIMS',\n",
       " 'MAY_SHARE_BOUNDS',\n",
       " 'MAY_SHARE_EXACT',\n",
       " 'ModuleDeprecationWarning',\n",
       " 'NAN',\n",
       " 'NINF',\n",
       " 'NZERO',\n",
       " 'NaN',\n",
       " 'PINF',\n",
       " 'PZERO',\n",
       " 'RAISE',\n",
       " 'RankWarning',\n",
       " 'SHIFT_DIVIDEBYZERO',\n",
       " 'SHIFT_INVALID',\n",
       " 'SHIFT_OVERFLOW',\n",
       " 'SHIFT_UNDERFLOW',\n",
       " 'ScalarType',\n",
       " 'Tester',\n",
       " 'TooHardError',\n",
       " 'True_',\n",
       " 'UFUNC_BUFSIZE_DEFAULT',\n",
       " 'UFUNC_PYVALS_NAME',\n",
       " 'VisibleDeprecationWarning',\n",
       " 'WRAP',\n",
       " '_CopyMode',\n",
       " '_NoValue',\n",
       " '_UFUNC_API',\n",
       " '__NUMPY_SETUP__',\n",
       " '__all__',\n",
       " '__builtins__',\n",
       " '__cached__',\n",
       " '__config__',\n",
       " '__deprecated_attrs__',\n",
       " '__dir__',\n",
       " '__doc__',\n",
       " '__expired_functions__',\n",
       " '__file__',\n",
       " '__former_attrs__',\n",
       " '__future_scalars__',\n",
       " '__getattr__',\n",
       " '__git_version__',\n",
       " '__loader__',\n",
       " '__mkl_version__',\n",
       " '__name__',\n",
       " '__package__',\n",
       " '__path__',\n",
       " '__spec__',\n",
       " '__version__',\n",
       " '_add_newdoc_ufunc',\n",
       " '_builtins',\n",
       " '_distributor_init',\n",
       " '_financial_names',\n",
       " '_get_promotion_state',\n",
       " '_globals',\n",
       " '_int_extended_msg',\n",
       " '_mat',\n",
       " '_no_nep50_warning',\n",
       " '_pyinstaller_hooks_dir',\n",
       " '_pytesttester',\n",
       " '_set_promotion_state',\n",
       " '_specific_msg',\n",
       " '_version',\n",
       " 'abs',\n",
       " 'absolute',\n",
       " 'add',\n",
       " 'add_docstring',\n",
       " 'add_newdoc',\n",
       " 'add_newdoc_ufunc',\n",
       " 'all',\n",
       " 'allclose',\n",
       " 'alltrue',\n",
       " 'amax',\n",
       " 'amin',\n",
       " 'angle',\n",
       " 'any',\n",
       " 'append',\n",
       " 'apply_along_axis',\n",
       " 'apply_over_axes',\n",
       " 'arange',\n",
       " 'arccos',\n",
       " 'arccosh',\n",
       " 'arcsin',\n",
       " 'arcsinh',\n",
       " 'arctan',\n",
       " 'arctan2',\n",
       " 'arctanh',\n",
       " 'argmax',\n",
       " 'argmin',\n",
       " 'argpartition',\n",
       " 'argsort',\n",
       " 'argwhere',\n",
       " 'around',\n",
       " 'array',\n",
       " 'array2string',\n",
       " 'array_equal',\n",
       " 'array_equiv',\n",
       " 'array_repr',\n",
       " 'array_split',\n",
       " 'array_str',\n",
       " 'asanyarray',\n",
       " 'asarray',\n",
       " 'asarray_chkfinite',\n",
       " 'ascontiguousarray',\n",
       " 'asfarray',\n",
       " 'asfortranarray',\n",
       " 'asmatrix',\n",
       " 'atleast_1d',\n",
       " 'atleast_2d',\n",
       " 'atleast_3d',\n",
       " 'average',\n",
       " 'bartlett',\n",
       " 'base_repr',\n",
       " 'binary_repr',\n",
       " 'bincount',\n",
       " 'bitwise_and',\n",
       " 'bitwise_not',\n",
       " 'bitwise_or',\n",
       " 'bitwise_xor',\n",
       " 'blackman',\n",
       " 'block',\n",
       " 'bmat',\n",
       " 'bool_',\n",
       " 'broadcast',\n",
       " 'broadcast_arrays',\n",
       " 'broadcast_shapes',\n",
       " 'broadcast_to',\n",
       " 'busday_count',\n",
       " 'busday_offset',\n",
       " 'busdaycalendar',\n",
       " 'byte',\n",
       " 'byte_bounds',\n",
       " 'bytes_',\n",
       " 'c_',\n",
       " 'can_cast',\n",
       " 'cast',\n",
       " 'cbrt',\n",
       " 'cdouble',\n",
       " 'ceil',\n",
       " 'cfloat',\n",
       " 'char',\n",
       " 'character',\n",
       " 'chararray',\n",
       " 'choose',\n",
       " 'clip',\n",
       " 'clongdouble',\n",
       " 'clongfloat',\n",
       " 'column_stack',\n",
       " 'common_type',\n",
       " 'compare_chararrays',\n",
       " 'compat',\n",
       " 'complex128',\n",
       " 'complex64',\n",
       " 'complex_',\n",
       " 'complexfloating',\n",
       " 'compress',\n",
       " 'concatenate',\n",
       " 'conj',\n",
       " 'conjugate',\n",
       " 'convolve',\n",
       " 'copy',\n",
       " 'copysign',\n",
       " 'copyto',\n",
       " 'corrcoef',\n",
       " 'correlate',\n",
       " 'cos',\n",
       " 'cosh',\n",
       " 'count_nonzero',\n",
       " 'cov',\n",
       " 'cross',\n",
       " 'csingle',\n",
       " 'ctypeslib',\n",
       " 'cumprod',\n",
       " 'cumproduct',\n",
       " 'cumsum',\n",
       " 'datetime64',\n",
       " 'datetime_as_string',\n",
       " 'datetime_data',\n",
       " 'deg2rad',\n",
       " 'degrees',\n",
       " 'delete',\n",
       " 'deprecate',\n",
       " 'deprecate_with_doc',\n",
       " 'diag',\n",
       " 'diag_indices',\n",
       " 'diag_indices_from',\n",
       " 'diagflat',\n",
       " 'diagonal',\n",
       " 'diff',\n",
       " 'digitize',\n",
       " 'disp',\n",
       " 'divide',\n",
       " 'divmod',\n",
       " 'dot',\n",
       " 'double',\n",
       " 'dsplit',\n",
       " 'dstack',\n",
       " 'dtype',\n",
       " 'e',\n",
       " 'ediff1d',\n",
       " 'einsum',\n",
       " 'einsum_path',\n",
       " 'emath',\n",
       " 'empty',\n",
       " 'empty_like',\n",
       " 'equal',\n",
       " 'errstate',\n",
       " 'euler_gamma',\n",
       " 'exp',\n",
       " 'exp2',\n",
       " 'expand_dims',\n",
       " 'expm1',\n",
       " 'expm1x',\n",
       " 'extract',\n",
       " 'eye',\n",
       " 'fabs',\n",
       " 'fastCopyAndTranspose',\n",
       " 'fft',\n",
       " 'fill_diagonal',\n",
       " 'find_common_type',\n",
       " 'finfo',\n",
       " 'fix',\n",
       " 'flatiter',\n",
       " 'flatnonzero',\n",
       " 'flexible',\n",
       " 'flip',\n",
       " 'fliplr',\n",
       " 'flipud',\n",
       " 'float16',\n",
       " 'float32',\n",
       " 'float64',\n",
       " 'float_',\n",
       " 'float_power',\n",
       " 'floating',\n",
       " 'floor',\n",
       " 'floor_divide',\n",
       " 'fmax',\n",
       " 'fmin',\n",
       " 'fmod',\n",
       " 'format_float_positional',\n",
       " 'format_float_scientific',\n",
       " 'format_parser',\n",
       " 'frexp',\n",
       " 'from_dlpack',\n",
       " 'frombuffer',\n",
       " 'fromfile',\n",
       " 'fromfunction',\n",
       " 'fromiter',\n",
       " 'frompyfunc',\n",
       " 'fromregex',\n",
       " 'fromstring',\n",
       " 'full',\n",
       " 'full_like',\n",
       " 'gcd',\n",
       " 'generic',\n",
       " 'genfromtxt',\n",
       " 'geomspace',\n",
       " 'get_array_wrap',\n",
       " 'get_include',\n",
       " 'get_printoptions',\n",
       " 'getbufsize',\n",
       " 'geterr',\n",
       " 'geterrcall',\n",
       " 'geterrobj',\n",
       " 'gradient',\n",
       " 'greater',\n",
       " 'greater_equal',\n",
       " 'half',\n",
       " 'hamming',\n",
       " 'hanning',\n",
       " 'heaviside',\n",
       " 'histogram',\n",
       " 'histogram2d',\n",
       " 'histogram_bin_edges',\n",
       " 'histogramdd',\n",
       " 'hsplit',\n",
       " 'hstack',\n",
       " 'hypot',\n",
       " 'i0',\n",
       " 'identity',\n",
       " 'iinfo',\n",
       " 'imag',\n",
       " 'in1d',\n",
       " 'index_exp',\n",
       " 'indices',\n",
       " 'inexact',\n",
       " 'inf',\n",
       " 'info',\n",
       " 'infty',\n",
       " 'inner',\n",
       " 'insert',\n",
       " 'int16',\n",
       " 'int32',\n",
       " 'int64',\n",
       " 'int8',\n",
       " 'int_',\n",
       " 'intc',\n",
       " 'integer',\n",
       " 'interp',\n",
       " 'intersect1d',\n",
       " 'intp',\n",
       " 'invert',\n",
       " 'is_busday',\n",
       " 'isclose',\n",
       " 'iscomplex',\n",
       " 'iscomplexobj',\n",
       " 'isfinite',\n",
       " 'isfortran',\n",
       " 'isin',\n",
       " 'isinf',\n",
       " 'isnan',\n",
       " 'isnat',\n",
       " 'isneginf',\n",
       " 'isposinf',\n",
       " 'isreal',\n",
       " 'isrealobj',\n",
       " 'isscalar',\n",
       " 'issctype',\n",
       " 'issubclass_',\n",
       " 'issubdtype',\n",
       " 'issubsctype',\n",
       " 'iterable',\n",
       " 'ix_',\n",
       " 'kaiser',\n",
       " 'kron',\n",
       " 'lcm',\n",
       " 'ldexp',\n",
       " 'left_shift',\n",
       " 'less',\n",
       " 'less_equal',\n",
       " 'lexsort',\n",
       " 'lib',\n",
       " 'linalg',\n",
       " 'linspace',\n",
       " 'little_endian',\n",
       " 'load',\n",
       " 'loadtxt',\n",
       " 'log',\n",
       " 'log10',\n",
       " 'log1p',\n",
       " 'log2',\n",
       " 'logaddexp',\n",
       " 'logaddexp2',\n",
       " 'logical_and',\n",
       " 'logical_not',\n",
       " 'logical_or',\n",
       " 'logical_xor',\n",
       " 'logspace',\n",
       " 'longcomplex',\n",
       " 'longdouble',\n",
       " 'longfloat',\n",
       " 'longlong',\n",
       " 'lookfor',\n",
       " 'ma',\n",
       " 'mask_indices',\n",
       " 'mat',\n",
       " 'math',\n",
       " 'matmul',\n",
       " 'matrix',\n",
       " 'max',\n",
       " 'maximum',\n",
       " 'maximum_sctype',\n",
       " 'may_share_memory',\n",
       " 'mean',\n",
       " 'median',\n",
       " 'memmap',\n",
       " 'meshgrid',\n",
       " 'mgrid',\n",
       " 'min',\n",
       " 'min_scalar_type',\n",
       " 'minimum',\n",
       " 'mintypecode',\n",
       " 'mkl',\n",
       " 'mod',\n",
       " 'modf',\n",
       " 'moveaxis',\n",
       " 'msort',\n",
       " 'multiply',\n",
       " 'nan',\n",
       " 'nan_to_num',\n",
       " 'nanargmax',\n",
       " 'nanargmin',\n",
       " 'nancumprod',\n",
       " 'nancumsum',\n",
       " 'nanmax',\n",
       " 'nanmean',\n",
       " 'nanmedian',\n",
       " 'nanmin',\n",
       " 'nanpercentile',\n",
       " 'nanprod',\n",
       " 'nanquantile',\n",
       " 'nanstd',\n",
       " 'nansum',\n",
       " 'nanvar',\n",
       " 'nbytes',\n",
       " 'ndarray',\n",
       " 'ndenumerate',\n",
       " 'ndim',\n",
       " 'ndindex',\n",
       " 'nditer',\n",
       " 'negative',\n",
       " 'nested_iters',\n",
       " 'newaxis',\n",
       " 'nextafter',\n",
       " 'nonzero',\n",
       " 'not_equal',\n",
       " 'numarray',\n",
       " 'number',\n",
       " 'obj2sctype',\n",
       " 'object_',\n",
       " 'ogrid',\n",
       " 'oldnumeric',\n",
       " 'ones',\n",
       " 'ones_like',\n",
       " 'outer',\n",
       " 'packbits',\n",
       " 'pad',\n",
       " 'partition',\n",
       " 'percentile',\n",
       " 'pi',\n",
       " 'piecewise',\n",
       " 'place',\n",
       " 'poly',\n",
       " 'poly1d',\n",
       " 'polyadd',\n",
       " 'polyder',\n",
       " 'polydiv',\n",
       " 'polyfit',\n",
       " 'polyint',\n",
       " 'polymul',\n",
       " 'polynomial',\n",
       " 'polysub',\n",
       " 'polyval',\n",
       " 'positive',\n",
       " 'power',\n",
       " 'printoptions',\n",
       " 'prod',\n",
       " 'product',\n",
       " 'promote_types',\n",
       " 'ptp',\n",
       " 'put',\n",
       " 'put_along_axis',\n",
       " 'putmask',\n",
       " 'quantile',\n",
       " 'r_',\n",
       " 'rad2deg',\n",
       " 'radians',\n",
       " 'random',\n",
       " 'ravel',\n",
       " 'ravel_multi_index',\n",
       " 'real',\n",
       " 'real_if_close',\n",
       " 'rec',\n",
       " 'recarray',\n",
       " 'recfromcsv',\n",
       " 'recfromtxt',\n",
       " 'reciprocal',\n",
       " 'record',\n",
       " 'remainder',\n",
       " 'repeat',\n",
       " 'require',\n",
       " 'reshape',\n",
       " 'resize',\n",
       " 'result_type',\n",
       " 'right_shift',\n",
       " 'rint',\n",
       " 'roll',\n",
       " 'rollaxis',\n",
       " 'roots',\n",
       " 'rot90',\n",
       " 'round',\n",
       " 'round_',\n",
       " 'row_stack',\n",
       " 's_',\n",
       " 'safe_eval',\n",
       " 'save',\n",
       " 'savetxt',\n",
       " 'savez',\n",
       " 'savez_compressed',\n",
       " 'sctype2char',\n",
       " 'sctypeDict',\n",
       " 'sctypes',\n",
       " 'searchsorted',\n",
       " 'select',\n",
       " 'set_numeric_ops',\n",
       " 'set_printoptions',\n",
       " 'set_string_function',\n",
       " 'setbufsize',\n",
       " 'setdiff1d',\n",
       " 'seterr',\n",
       " 'seterrcall',\n",
       " 'seterrobj',\n",
       " 'setxor1d',\n",
       " 'shape',\n",
       " 'shares_memory',\n",
       " 'short',\n",
       " 'show_config',\n",
       " 'show_runtime',\n",
       " 'sign',\n",
       " 'signbit',\n",
       " 'signedinteger',\n",
       " 'sin',\n",
       " 'sinc',\n",
       " 'single',\n",
       " 'singlecomplex',\n",
       " 'sinh',\n",
       " 'size',\n",
       " 'sometrue',\n",
       " 'sort',\n",
       " 'sort_complex',\n",
       " 'source',\n",
       " 'spacing',\n",
       " 'split',\n",
       " 'sqrt',\n",
       " 'square',\n",
       " 'squeeze',\n",
       " 'stack',\n",
       " 'std',\n",
       " 'str_',\n",
       " 'string_',\n",
       " 'subtract',\n",
       " 'sum',\n",
       " 'swapaxes',\n",
       " 'take',\n",
       " 'take_along_axis',\n",
       " 'tan',\n",
       " 'tanh',\n",
       " 'tensordot',\n",
       " 'test',\n",
       " 'testing',\n",
       " 'tile',\n",
       " 'timedelta64',\n",
       " 'trace',\n",
       " 'tracemalloc_domain',\n",
       " 'transpose',\n",
       " 'trapz',\n",
       " 'tri',\n",
       " 'tril',\n",
       " 'tril_indices',\n",
       " 'tril_indices_from',\n",
       " 'trim_zeros',\n",
       " 'triu',\n",
       " 'triu_indices',\n",
       " 'triu_indices_from',\n",
       " 'true_divide',\n",
       " 'trunc',\n",
       " 'typecodes',\n",
       " 'typename',\n",
       " 'ubyte',\n",
       " 'ufunc',\n",
       " 'uint',\n",
       " 'uint16',\n",
       " 'uint32',\n",
       " 'uint64',\n",
       " 'uint8',\n",
       " 'uintc',\n",
       " 'uintp',\n",
       " 'ulonglong',\n",
       " 'unicode_',\n",
       " 'union1d',\n",
       " 'unique',\n",
       " 'unpackbits',\n",
       " 'unravel_index',\n",
       " 'unsignedinteger',\n",
       " 'unwrap',\n",
       " 'use_hugepage',\n",
       " 'ushort',\n",
       " 'vander',\n",
       " 'var',\n",
       " 'vdot',\n",
       " 'vectorize',\n",
       " 'version',\n",
       " 'void',\n",
       " 'vsplit',\n",
       " 'vstack',\n",
       " 'where',\n",
       " 'who',\n",
       " 'zeros',\n",
       " 'zeros_like']"
      ]
     },
     "execution_count": 55,
     "metadata": {},
     "output_type": "execute_result"
    }
   ],
   "source": [
    "dir(np)\n"
   ]
  },
  {
   "cell_type": "code",
   "execution_count": 58,
   "id": "2af919e8-4bcd-45e8-b568-92de869161c2",
   "metadata": {},
   "outputs": [],
   "source": [
    "o = np.isclose(distance2,m,equal_nan=False)"
   ]
  },
  {
   "cell_type": "code",
   "execution_count": 64,
   "id": "14ef8c75-f79d-440c-ac92-53e502265f43",
   "metadata": {},
   "outputs": [
    {
     "name": "stdout",
     "output_type": "stream",
     "text": [
      "[[False False False ... False False False]\n",
      " [False False False ... False False False]]\n"
     ]
    }
   ],
   "source": [
    "print(o==True)"
   ]
  },
  {
   "cell_type": "code",
   "execution_count": 66,
   "id": "23ea0ff5-419a-4fa5-9aed-ad47094462ba",
   "metadata": {},
   "outputs": [
    {
     "data": {
      "text/plain": [
       "0.38243897179670544"
      ]
     },
     "execution_count": 66,
     "metadata": {},
     "output_type": "execute_result"
    }
   ],
   "source": [
    "m_p = np.mean(Py_distance)\n",
    "m_p"
   ]
  },
  {
   "cell_type": "code",
   "execution_count": 68,
   "id": "4115e342-4dea-44d7-8717-7b6ba2e533be",
   "metadata": {},
   "outputs": [],
   "source": [
    "m_P1 = np.mod(Py_distance,m_p)"
   ]
  },
  {
   "cell_type": "code",
   "execution_count": 72,
   "id": "7320fa7d-2a0f-470f-b44a-9f9dd633fc04",
   "metadata": {},
   "outputs": [],
   "source": [
    "sorting = np.argsort(distance2)\n"
   ]
  },
  {
   "cell_type": "code",
   "execution_count": 73,
   "id": "9ff3d302-cc47-436b-8c96-6490eee7207e",
   "metadata": {},
   "outputs": [],
   "source": [
    "neigbors = sorting[:3]"
   ]
  },
  {
   "cell_type": "code",
   "execution_count": 74,
   "id": "fd027ecd-11a5-4170-b6e5-196bc24f7fd0",
   "metadata": {},
   "outputs": [
    {
     "data": {
      "text/plain": [
       "array([883781, 210277, 279790], dtype=int64)"
      ]
     },
     "execution_count": 74,
     "metadata": {},
     "output_type": "execute_result"
    }
   ],
   "source": [
    "neigbors"
   ]
  },
  {
   "cell_type": "code",
   "execution_count": 76,
   "id": "8daff5a8-e83d-4ff4-abc2-39de0a0e23f4",
   "metadata": {},
   "outputs": [],
   "source": [
    "nearest_neigbors = arr[neigbors]"
   ]
  },
  {
   "cell_type": "markdown",
   "id": "03d45918-6493-4902-9f14-5a609d7c0916",
   "metadata": {},
   "source": [
    "# close three nearest_neigbors"
   ]
  },
  {
   "cell_type": "code",
   "execution_count": 77,
   "id": "777c4abb-c637-404d-a203-aa1860473e40",
   "metadata": {},
   "outputs": [
    {
     "data": {
      "text/plain": [
       "array([[0.50047814, 0.49951816],\n",
       "       [0.5008403 , 0.50063186],\n",
       "       [0.50117972, 0.49992084]])"
      ]
     },
     "execution_count": 77,
     "metadata": {},
     "output_type": "execute_result"
    }
   ],
   "source": [
    "nearest_neigbors"
   ]
  },
  {
   "cell_type": "code",
   "execution_count": 78,
   "id": "441b3cf6-0d9f-4415-94bd-be4b4d2d4441",
   "metadata": {},
   "outputs": [
    {
     "data": {
      "text/plain": [
       "<matplotlib.collections.PathCollection at 0x14d2ef48b50>"
      ]
     },
     "execution_count": 78,
     "metadata": {},
     "output_type": "execute_result"
    },
    {
     "data": {
      "image/png": "[encoded data removed]",
      "text/plain": [
       "<Figure size 640x480 with 1 Axes>"
      ]
     },
     "metadata": {},
     "output_type": "display_data"
    }
   ],
   "source": [
    "plt.scatter(arr[:,0],arr[:,1])\n",
    "plt.scatter(nearest_neigbors[:,0],nearest_neigbors[:,1],color='red')"
   ]
  },
  {
   "cell_type": "markdown",
   "id": "6d236246-072c-42d0-8132-43de1103a126",
   "metadata": {},
   "source": [
    "# Given any data point, generate 3 closest neighbors from it.\n"
   ]
  },
  {
   "cell_type": "code",
   "execution_count": 81,
   "id": "9e28d598-8965-477e-8257-bc4226624e62",
   "metadata": {},
   "outputs": [],
   "source": [
    "data_n = np.sort(distance2)"
   ]
  },
  {
   "cell_type": "code",
   "execution_count": 82,
   "id": "5905688b-cb07-48b1-84e0-121d70cf05a4",
   "metadata": {},
   "outputs": [],
   "source": [
    "neigbors_n = data_n[:3]"
   ]
  },
  {
   "cell_type": "code",
   "execution_count": 85,
   "id": "8611b582-f0a6-4b9a-abee-101f0c1b2e3d",
   "metadata": {},
   "outputs": [],
   "source": [
    "nearest_neigbors_n = arr2[neigbors]"
   ]
  },
  {
   "cell_type": "code",
   "execution_count": 84,
   "id": "b06706c1-f77c-4898-8fc1-4a32c31d06b0",
   "metadata": {},
   "outputs": [
    {
     "data": {
      "text/plain": [
       "array([0.00051394, 0.00082713, 0.00087907])"
      ]
     },
     "execution_count": 84,
     "metadata": {},
     "output_type": "execute_result"
    }
   ],
   "source": [
    "neigbors_n"
   ]
  },
  {
   "cell_type": "code",
   "execution_count": 86,
   "id": "4c2ad001-7b71-45ca-a406-9891d91125b0",
   "metadata": {},
   "outputs": [
    {
     "data": {
      "text/plain": [
       "array([[0.50047814, 0.49951816, 0.00051394],\n",
       "       [0.5008403 , 0.50063186, 0.00082713],\n",
       "       [0.50117972, 0.49992084, 0.00087907]])"
      ]
     },
     "execution_count": 86,
     "metadata": {},
     "output_type": "execute_result"
    }
   ],
   "source": [
    "nearest_neigbors_n"
   ]
  },
  {
   "cell_type": "code",
   "execution_count": null,
   "id": "064194ba-c64b-4332-afd4-e6a01038559c",
   "metadata": {},
   "outputs": [],
   "source": []
  }
 ],
 "metadata": {
  "kernelspec": {
   "display_name": "Python 3 (ipykernel)",
   "language": "python",
   "name": "python3"
  },
  "language_info": {
   "codemirror_mode": {
    "name": "ipython",
    "version": 3
   },
   "file_extension": ".py",
   "mimetype": "text/x-python",
   "name": "python",
   "nbconvert_exporter": "python",
   "pygments_lexer": "ipython3",
   "version": "3.11.5"
  }
 },
 "nbformat": 4,
 "nbformat_minor": 5
}
